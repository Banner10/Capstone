{
 "cells": [
  {
   "cell_type": "code",
   "execution_count": 1,
   "metadata": {},
   "outputs": [
    {
     "name": "stderr",
     "output_type": "stream",
     "text": [
      "/Users/andrewbanner/opt/anaconda3/envs/learn-env/lib/python3.6/site-packages/mpl_finance.py:22: DeprecationWarning: \n",
      "\n",
      "  =================================================================\n",
      "\n",
      "   WARNING: `mpl_finance` is deprecated:\n",
      "\n",
      "    Please use `mplfinance` instead (no hyphen, no underscore).\n",
      "\n",
      "    To install: `pip install --upgrade mplfinance` \n",
      "\n",
      "   For more information, see: https://pypi.org/project/mplfinance/\n",
      "\n",
      "  =================================================================\n",
      "\n",
      "  category=DeprecationWarning)\n"
     ]
    }
   ],
   "source": [
    "import keras as ks\n",
    "from keras.models import Sequential\n",
    "from keras.layers import LSTM,Dropout,Dense\n",
    "from sklearn.preprocessing import MinMaxScaler\n",
    "scaler=MinMaxScaler(feature_range=(0,1))\n",
    "import mpl_finance as mpf\n",
    "from mpl_finance import candlestick_ohlc\n",
    "import matplotlib.ticker as mticker\n",
    "from datetime import date\n",
    "from matplotlib.dates import date2num\n",
    "import matplotlib.dates as mdates\n",
    "import matplotlib.ticker as mticker\n",
    "import pandas as pd\n",
    "import matplotlib.pyplot as plt\n",
    "import matplotlib.dates as mdates\n",
    "import numpy as np\n",
    "import plotly.graph_objects as go\n",
    "import yfinance as yf"
   ]
  },
  {
   "cell_type": "markdown",
   "metadata": {},
   "source": [
    "Basic LSTM Creation Overview\n",
    "\n",
    "1. Prepare the data.\n",
    "2. Feature Scaling (Preprocessing of data)\n",
    "3. Split the dataset for train and test.\n",
    "4. Converting features into NumPy array and reshaping the array into shape accepted by LSTM model.\n",
    "5. Build the architecture for LSTM network.\n",
    "6. Compile and fit the model (Training)"
   ]
  },
  {
   "cell_type": "code",
   "execution_count": 2,
   "metadata": {},
   "outputs": [
    {
     "name": "stdout",
     "output_type": "stream",
     "text": [
      "[*********************100%***********************]  1 of 1 completed\n"
     ]
    }
   ],
   "source": [
    "spy = yf.download(\n",
    "        tickers = \"SPY\",\n",
    "        period = \"1d\",\n",
    "        interval = \"1m\",\n",
    "        group_by = 'column',\n",
    "        auto_adjust = False,\n",
    "        prepost = False,\n",
    "        threads = True,\n",
    "        proxy = None\n",
    "    )"
   ]
  },
  {
   "cell_type": "code",
   "execution_count": 21,
   "metadata": {},
   "outputs": [
    {
     "data": {
      "text/html": [
       "<div>\n",
       "<style scoped>\n",
       "    .dataframe tbody tr th:only-of-type {\n",
       "        vertical-align: middle;\n",
       "    }\n",
       "\n",
       "    .dataframe tbody tr th {\n",
       "        vertical-align: top;\n",
       "    }\n",
       "\n",
       "    .dataframe thead th {\n",
       "        text-align: right;\n",
       "    }\n",
       "</style>\n",
       "<table border=\"1\" class=\"dataframe\">\n",
       "  <thead>\n",
       "    <tr style=\"text-align: right;\">\n",
       "      <th></th>\n",
       "      <th>Open</th>\n",
       "      <th>High</th>\n",
       "      <th>Low</th>\n",
       "      <th>Close</th>\n",
       "      <th>Adj Close</th>\n",
       "      <th>Volume</th>\n",
       "    </tr>\n",
       "    <tr>\n",
       "      <th>Datetime</th>\n",
       "      <th></th>\n",
       "      <th></th>\n",
       "      <th></th>\n",
       "      <th></th>\n",
       "      <th></th>\n",
       "      <th></th>\n",
       "    </tr>\n",
       "  </thead>\n",
       "  <tbody>\n",
       "    <tr>\n",
       "      <th>2021-02-25 09:30:00-05:00</th>\n",
       "      <td>390.410004</td>\n",
       "      <td>390.660004</td>\n",
       "      <td>390.399994</td>\n",
       "      <td>390.510010</td>\n",
       "      <td>390.510010</td>\n",
       "      <td>2492622</td>\n",
       "    </tr>\n",
       "    <tr>\n",
       "      <th>2021-02-25 09:31:00-05:00</th>\n",
       "      <td>390.510010</td>\n",
       "      <td>390.869995</td>\n",
       "      <td>390.450012</td>\n",
       "      <td>390.829987</td>\n",
       "      <td>390.829987</td>\n",
       "      <td>593126</td>\n",
       "    </tr>\n",
       "    <tr>\n",
       "      <th>2021-02-25 09:32:00-05:00</th>\n",
       "      <td>390.829987</td>\n",
       "      <td>391.190002</td>\n",
       "      <td>390.799988</td>\n",
       "      <td>391.170013</td>\n",
       "      <td>391.170013</td>\n",
       "      <td>675692</td>\n",
       "    </tr>\n",
       "    <tr>\n",
       "      <th>2021-02-25 09:33:00-05:00</th>\n",
       "      <td>391.170013</td>\n",
       "      <td>391.363312</td>\n",
       "      <td>391.089996</td>\n",
       "      <td>391.299988</td>\n",
       "      <td>391.299988</td>\n",
       "      <td>484241</td>\n",
       "    </tr>\n",
       "    <tr>\n",
       "      <th>2021-02-25 09:34:00-05:00</th>\n",
       "      <td>391.309998</td>\n",
       "      <td>391.489990</td>\n",
       "      <td>391.239990</td>\n",
       "      <td>391.480011</td>\n",
       "      <td>391.480011</td>\n",
       "      <td>337566</td>\n",
       "    </tr>\n",
       "    <tr>\n",
       "      <th>...</th>\n",
       "      <td>...</td>\n",
       "      <td>...</td>\n",
       "      <td>...</td>\n",
       "      <td>...</td>\n",
       "      <td>...</td>\n",
       "      <td>...</td>\n",
       "    </tr>\n",
       "    <tr>\n",
       "      <th>2021-02-25 14:01:00-05:00</th>\n",
       "      <td>383.989990</td>\n",
       "      <td>384.519989</td>\n",
       "      <td>383.940002</td>\n",
       "      <td>384.319214</td>\n",
       "      <td>384.319214</td>\n",
       "      <td>232818</td>\n",
       "    </tr>\n",
       "    <tr>\n",
       "      <th>2021-02-25 14:02:00-05:00</th>\n",
       "      <td>384.325012</td>\n",
       "      <td>384.500000</td>\n",
       "      <td>384.160004</td>\n",
       "      <td>384.260010</td>\n",
       "      <td>384.260010</td>\n",
       "      <td>153580</td>\n",
       "    </tr>\n",
       "    <tr>\n",
       "      <th>2021-02-25 14:03:00-05:00</th>\n",
       "      <td>384.265015</td>\n",
       "      <td>384.790009</td>\n",
       "      <td>384.255005</td>\n",
       "      <td>384.790009</td>\n",
       "      <td>384.790009</td>\n",
       "      <td>227267</td>\n",
       "    </tr>\n",
       "    <tr>\n",
       "      <th>2021-02-25 14:04:00-05:00</th>\n",
       "      <td>384.799988</td>\n",
       "      <td>385.119995</td>\n",
       "      <td>384.785004</td>\n",
       "      <td>385.054993</td>\n",
       "      <td>385.054993</td>\n",
       "      <td>397466</td>\n",
       "    </tr>\n",
       "    <tr>\n",
       "      <th>2021-02-25 14:05:39-05:00</th>\n",
       "      <td>385.179993</td>\n",
       "      <td>385.179993</td>\n",
       "      <td>385.179993</td>\n",
       "      <td>385.179993</td>\n",
       "      <td>385.179993</td>\n",
       "      <td>0</td>\n",
       "    </tr>\n",
       "  </tbody>\n",
       "</table>\n",
       "<p>275 rows × 6 columns</p>\n",
       "</div>"
      ],
      "text/plain": [
       "                                 Open        High         Low       Close  \\\n",
       "Datetime                                                                    \n",
       "2021-02-25 09:30:00-05:00  390.410004  390.660004  390.399994  390.510010   \n",
       "2021-02-25 09:31:00-05:00  390.510010  390.869995  390.450012  390.829987   \n",
       "2021-02-25 09:32:00-05:00  390.829987  391.190002  390.799988  391.170013   \n",
       "2021-02-25 09:33:00-05:00  391.170013  391.363312  391.089996  391.299988   \n",
       "2021-02-25 09:34:00-05:00  391.309998  391.489990  391.239990  391.480011   \n",
       "...                               ...         ...         ...         ...   \n",
       "2021-02-25 14:01:00-05:00  383.989990  384.519989  383.940002  384.319214   \n",
       "2021-02-25 14:02:00-05:00  384.325012  384.500000  384.160004  384.260010   \n",
       "2021-02-25 14:03:00-05:00  384.265015  384.790009  384.255005  384.790009   \n",
       "2021-02-25 14:04:00-05:00  384.799988  385.119995  384.785004  385.054993   \n",
       "2021-02-25 14:05:39-05:00  385.179993  385.179993  385.179993  385.179993   \n",
       "\n",
       "                            Adj Close   Volume  \n",
       "Datetime                                        \n",
       "2021-02-25 09:30:00-05:00  390.510010  2492622  \n",
       "2021-02-25 09:31:00-05:00  390.829987   593126  \n",
       "2021-02-25 09:32:00-05:00  391.170013   675692  \n",
       "2021-02-25 09:33:00-05:00  391.299988   484241  \n",
       "2021-02-25 09:34:00-05:00  391.480011   337566  \n",
       "...                               ...      ...  \n",
       "2021-02-25 14:01:00-05:00  384.319214   232818  \n",
       "2021-02-25 14:02:00-05:00  384.260010   153580  \n",
       "2021-02-25 14:03:00-05:00  384.790009   227267  \n",
       "2021-02-25 14:04:00-05:00  385.054993   397466  \n",
       "2021-02-25 14:05:39-05:00  385.179993        0  \n",
       "\n",
       "[275 rows x 6 columns]"
      ]
     },
     "execution_count": 21,
     "metadata": {},
     "output_type": "execute_result"
    }
   ],
   "source": [
    "spy"
   ]
  },
  {
   "cell_type": "code",
   "execution_count": 22,
   "metadata": {},
   "outputs": [],
   "source": [
    "data = spy\n",
    "data = spy.filter(['Close'])"
   ]
  },
  {
   "cell_type": "code",
   "execution_count": 4,
   "metadata": {},
   "outputs": [],
   "source": [
    "# Convert the dataframe to numpy array\n",
    "df = data.values"
   ]
  },
  {
   "cell_type": "code",
   "execution_count": 5,
   "metadata": {},
   "outputs": [
    {
     "data": {
      "text/plain": [
       "220"
      ]
     },
     "execution_count": 5,
     "metadata": {},
     "output_type": "execute_result"
    }
   ],
   "source": [
    "# Get the number of rows to train the model on\n",
    "training_data_len = int(np.ceil(len(df)*.8))\n",
    "training_data_len"
   ]
  },
  {
   "cell_type": "code",
   "execution_count": 6,
   "metadata": {},
   "outputs": [],
   "source": [
    "# Scale the data\n",
    "scaler = MinMaxScaler(feature_range=(0,1))\n",
    "scaled_data = scaler.fit_transform(df)"
   ]
  },
  {
   "cell_type": "code",
   "execution_count": 7,
   "metadata": {},
   "outputs": [],
   "source": [
    "#Create the scaled training data set\n",
    "train_data = scaled_data[0:int(training_data_len), :]"
   ]
  },
  {
   "cell_type": "code",
   "execution_count": 8,
   "metadata": {},
   "outputs": [],
   "source": [
    "#Split the data into x_train and y_train\n",
    "x_train = []\n",
    "y_train = []\n",
    "\n",
    "for i in range(60, len(train_data)):\n",
    "    x_train.append(train_data[i-60:i,0])\n",
    "    y_train.append(train_data[i,0])"
   ]
  },
  {
   "cell_type": "code",
   "execution_count": 9,
   "metadata": {},
   "outputs": [],
   "source": [
    "#convert the x_train and y_train to numpy arrays\n",
    "x_train = np.array(x_train)\n",
    "y_train = np.array(y_train)"
   ]
  },
  {
   "cell_type": "code",
   "execution_count": 10,
   "metadata": {},
   "outputs": [],
   "source": [
    "#reshape the data\n",
    "x_train = np.reshape(x_train, (x_train.shape[0], x_train.shape[1], 1))"
   ]
  },
  {
   "cell_type": "code",
   "execution_count": 11,
   "metadata": {},
   "outputs": [],
   "source": [
    "#Build the LSTM model\n",
    "lstm_model = Sequential()\n",
    "lstm_model.add(LSTM(128, return_sequences=True, input_shape= (x_train.shape[1], 1)))\n",
    "lstm_model.add(LSTM(64, return_sequences=False))\n",
    "lstm_model.add(Dense(25))\n",
    "lstm_model.add(Dense(1))"
   ]
  },
  {
   "cell_type": "code",
   "execution_count": 12,
   "metadata": {},
   "outputs": [
    {
     "name": "stdout",
     "output_type": "stream",
     "text": [
      "Epoch 1/50\n",
      "5/5 [==============================] - 3s 54ms/step - loss: 0.1141\n",
      "Epoch 2/50\n",
      "5/5 [==============================] - 0s 47ms/step - loss: 0.0149\n",
      "Epoch 3/50\n",
      "5/5 [==============================] - 0s 49ms/step - loss: 0.0176\n",
      "Epoch 4/50\n",
      "5/5 [==============================] - 0s 53ms/step - loss: 0.0070\n",
      "Epoch 5/50\n",
      "5/5 [==============================] - 0s 50ms/step - loss: 0.0065\n",
      "Epoch 6/50\n",
      "5/5 [==============================] - 0s 41ms/step - loss: 0.0061\n",
      "Epoch 7/50\n",
      "5/5 [==============================] - 0s 41ms/step - loss: 0.0038\n",
      "Epoch 8/50\n",
      "5/5 [==============================] - 0s 42ms/step - loss: 0.0041\n",
      "Epoch 9/50\n",
      "5/5 [==============================] - 0s 39ms/step - loss: 0.0031\n",
      "Epoch 10/50\n",
      "5/5 [==============================] - 0s 56ms/step - loss: 0.0024\n",
      "Epoch 11/50\n",
      "5/5 [==============================] - 0s 43ms/step - loss: 0.0029\n",
      "Epoch 12/50\n",
      "5/5 [==============================] - 0s 53ms/step - loss: 0.0024\n",
      "Epoch 13/50\n",
      "5/5 [==============================] - 0s 49ms/step - loss: 0.0027\n",
      "Epoch 14/50\n",
      "5/5 [==============================] - 0s 46ms/step - loss: 0.0023\n",
      "Epoch 15/50\n",
      "5/5 [==============================] - 0s 41ms/step - loss: 0.0022\n",
      "Epoch 16/50\n",
      "5/5 [==============================] - 0s 60ms/step - loss: 0.0023\n",
      "Epoch 17/50\n",
      "5/5 [==============================] - 0s 45ms/step - loss: 0.0023\n",
      "Epoch 18/50\n",
      "5/5 [==============================] - 0s 53ms/step - loss: 0.0023\n",
      "Epoch 19/50\n",
      "5/5 [==============================] - 0s 54ms/step - loss: 0.0023\n",
      "Epoch 20/50\n",
      "5/5 [==============================] - 0s 59ms/step - loss: 0.0022\n",
      "Epoch 21/50\n",
      "5/5 [==============================] - 0s 39ms/step - loss: 0.0024\n",
      "Epoch 22/50\n",
      "5/5 [==============================] - 0s 46ms/step - loss: 0.0021\n",
      "Epoch 23/50\n",
      "5/5 [==============================] - 0s 53ms/step - loss: 0.0022\n",
      "Epoch 24/50\n",
      "5/5 [==============================] - 0s 48ms/step - loss: 0.0022\n",
      "Epoch 25/50\n",
      "5/5 [==============================] - 0s 46ms/step - loss: 0.0022\n",
      "Epoch 26/50\n",
      "5/5 [==============================] - 0s 56ms/step - loss: 0.0022\n",
      "Epoch 27/50\n",
      "5/5 [==============================] - 0s 68ms/step - loss: 0.0020\n",
      "Epoch 28/50\n",
      "5/5 [==============================] - 0s 61ms/step - loss: 0.0021\n",
      "Epoch 29/50\n",
      "5/5 [==============================] - 0s 63ms/step - loss: 0.0022\n",
      "Epoch 30/50\n",
      "5/5 [==============================] - 0s 62ms/step - loss: 0.0021\n",
      "Epoch 31/50\n",
      "5/5 [==============================] - 0s 65ms/step - loss: 0.0021\n",
      "Epoch 32/50\n",
      "5/5 [==============================] - 0s 62ms/step - loss: 0.0021\n",
      "Epoch 33/50\n",
      "5/5 [==============================] - 0s 59ms/step - loss: 0.0017\n",
      "Epoch 34/50\n",
      "5/5 [==============================] - 0s 60ms/step - loss: 0.0021\n",
      "Epoch 35/50\n",
      "5/5 [==============================] - 0s 62ms/step - loss: 0.0021\n",
      "Epoch 36/50\n",
      "5/5 [==============================] - 0s 60ms/step - loss: 0.0022\n",
      "Epoch 37/50\n",
      "5/5 [==============================] - 0s 58ms/step - loss: 0.0020\n",
      "Epoch 38/50\n",
      "5/5 [==============================] - 0s 47ms/step - loss: 0.0018\n",
      "Epoch 39/50\n",
      "5/5 [==============================] - 0s 47ms/step - loss: 0.0021\n",
      "Epoch 40/50\n",
      "5/5 [==============================] - 0s 54ms/step - loss: 0.0025\n",
      "Epoch 41/50\n",
      "5/5 [==============================] - 0s 55ms/step - loss: 0.0021\n",
      "Epoch 42/50\n",
      "5/5 [==============================] - 0s 72ms/step - loss: 0.0021\n",
      "Epoch 43/50\n",
      "5/5 [==============================] - 0s 58ms/step - loss: 0.0018\n",
      "Epoch 44/50\n",
      "5/5 [==============================] - 0s 61ms/step - loss: 0.0020\n",
      "Epoch 45/50\n",
      "5/5 [==============================] - 0s 58ms/step - loss: 0.0020\n",
      "Epoch 46/50\n",
      "5/5 [==============================] - 0s 61ms/step - loss: 0.0017\n",
      "Epoch 47/50\n",
      "5/5 [==============================] - 0s 62ms/step - loss: 0.0018\n",
      "Epoch 48/50\n",
      "5/5 [==============================] - 0s 62ms/step - loss: 0.0018\n",
      "Epoch 49/50\n",
      "5/5 [==============================] - 0s 57ms/step - loss: 0.0018\n",
      "Epoch 50/50\n",
      "5/5 [==============================] - 0s 68ms/step - loss: 0.0017\n"
     ]
    },
    {
     "data": {
      "text/plain": [
       "<tensorflow.python.keras.callbacks.History at 0x7fc8ca658630>"
      ]
     },
     "execution_count": 12,
     "metadata": {},
     "output_type": "execute_result"
    }
   ],
   "source": [
    "#compile and fit\n",
    "lstm_model.compile(optimizer='adam',loss='mean_squared_error')\n",
    "lstm_model.fit(x_train,y_train,epochs=50,batch_size=32)"
   ]
  },
  {
   "cell_type": "code",
   "execution_count": 13,
   "metadata": {},
   "outputs": [],
   "source": [
    "#Create the testing data set\n",
    "test_data = scaled_data[training_data_len - 60: , :]\n",
    "#Create the data sets x_test and y_test\n",
    "x_test = []\n",
    "y_test = df[training_data_len:, :]\n",
    "for i in range(60, len(test_data)):\n",
    "    x_test.append(test_data[i-60:i, 0])"
   ]
  },
  {
   "cell_type": "code",
   "execution_count": 14,
   "metadata": {},
   "outputs": [],
   "source": [
    "#Convert to numpy array\n",
    "x_test = np.array(x_test)"
   ]
  },
  {
   "cell_type": "code",
   "execution_count": 15,
   "metadata": {},
   "outputs": [],
   "source": [
    "# Reshape the data\n",
    "x_test = np.reshape(x_test, (x_test.shape[0], x_test.shape[1], 1 ))"
   ]
  },
  {
   "cell_type": "code",
   "execution_count": 16,
   "metadata": {},
   "outputs": [],
   "source": [
    "#get model predictions\n",
    "preds = lstm_model.predict(x_test)\n",
    "preds = scaler.inverse_transform(preds)"
   ]
  },
  {
   "cell_type": "code",
   "execution_count": 17,
   "metadata": {},
   "outputs": [
    {
     "data": {
      "text/plain": [
       "0.5246245716153106"
      ]
     },
     "execution_count": 17,
     "metadata": {},
     "output_type": "execute_result"
    }
   ],
   "source": [
    "#Get RMSE\n",
    "rmse = np.sqrt(np.mean(((preds - y_test) **2)))\n",
    "rmse"
   ]
  },
  {
   "cell_type": "code",
   "execution_count": 18,
   "metadata": {},
   "outputs": [
    {
     "name": "stdout",
     "output_type": "stream",
     "text": [
      "Model: \"sequential\"\n",
      "_________________________________________________________________\n",
      "Layer (type)                 Output Shape              Param #   \n",
      "=================================================================\n",
      "lstm (LSTM)                  (None, 60, 128)           66560     \n",
      "_________________________________________________________________\n",
      "lstm_1 (LSTM)                (None, 64)                49408     \n",
      "_________________________________________________________________\n",
      "dense (Dense)                (None, 25)                1625      \n",
      "_________________________________________________________________\n",
      "dense_1 (Dense)              (None, 1)                 26        \n",
      "=================================================================\n",
      "Total params: 117,619\n",
      "Trainable params: 117,619\n",
      "Non-trainable params: 0\n",
      "_________________________________________________________________\n"
     ]
    }
   ],
   "source": [
    "lstm_model.summary()"
   ]
  },
  {
   "cell_type": "code",
   "execution_count": 19,
   "metadata": {},
   "outputs": [],
   "source": [
    "lstm_model.save(\"saved_model_2.h5\")"
   ]
  },
  {
   "cell_type": "code",
   "execution_count": 20,
   "metadata": {},
   "outputs": [
    {
     "name": "stderr",
     "output_type": "stream",
     "text": [
      "/Users/andrewbanner/opt/anaconda3/envs/learn-env/lib/python3.6/site-packages/ipykernel_launcher.py:4: SettingWithCopyWarning:\n",
      "\n",
      "\n",
      "A value is trying to be set on a copy of a slice from a DataFrame.\n",
      "Try using .loc[row_indexer,col_indexer] = value instead\n",
      "\n",
      "See the caveats in the documentation: https://pandas.pydata.org/pandas-docs/stable/user_guide/indexing.html#returning-a-view-versus-a-copy\n",
      "\n"
     ]
    },
    {
     "data": {
      "image/png": "[encoded data removed]",
      "text/plain": [
       "<Figure size 1152x576 with 1 Axes>"
      ]
     },
     "metadata": {
      "needs_background": "light"
     },
     "output_type": "display_data"
    }
   ],
   "source": [
    "# Plot the data\n",
    "train = data[:training_data_len]\n",
    "valid = data[training_data_len:]\n",
    "valid['Predictions'] = preds\n",
    "# Visualize the data\n",
    "plt.figure(figsize=(16,8))\n",
    "plt.title('LSTM MODEL for SPY')\n",
    "plt.xlabel('Date', fontsize=18)\n",
    "plt.ylabel('Close Price USD ($)', fontsize=18)\n",
    "plt.plot(train['Close'])\n",
    "plt.plot(valid[['Close', 'Predictions']])\n",
    "plt.legend(['Train', 'Val', 'Predictions'], loc='upper left')\n",
    "plt.show()"
   ]
  },
  {
   "cell_type": "code",
   "execution_count": null,
   "metadata": {},
   "outputs": [],
   "source": []
  },
  {
   "cell_type": "code",
   "execution_count": null,
   "metadata": {},
   "outputs": [],
   "source": []
  },
  {
   "cell_type": "code",
   "execution_count": null,
   "metadata": {},
   "outputs": [],
   "source": []
  },
  {
   "cell_type": "code",
   "execution_count": null,
   "metadata": {},
   "outputs": [],
   "source": []
  }
 ],
 "metadata": {
  "kernelspec": {
   "display_name": "Python 3",
   "language": "python",
   "name": "python3"
  },
  "language_info": {
   "codemirror_mode": {
    "name": "ipython",
    "version": 3
   },
   "file_extension": ".py",
   "mimetype": "text/x-python",
   "name": "python",
   "nbconvert_exporter": "python",
   "pygments_lexer": "ipython3",
   "version": "3.6.9"
  },
  "toc": {
   "base_numbering": 1,
   "nav_menu": {},
   "number_sections": true,
   "sideBar": true,
   "skip_h1_title": false,
   "title_cell": "Table of Contents",
   "title_sidebar": "Contents",
   "toc_cell": false,
   "toc_position": {},
   "toc_section_display": true,
   "toc_window_display": false
  }
 },
 "nbformat": 4,
 "nbformat_minor": 4
}
