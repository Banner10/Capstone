{
 "cells": [
  {
   "cell_type": "code",
   "execution_count": 1,
   "metadata": {},
   "outputs": [
    {
     "name": "stderr",
     "output_type": "stream",
     "text": [
      "/Users/andrewbanner/opt/anaconda3/envs/learn-env/lib/python3.6/site-packages/mpl_finance.py:22: DeprecationWarning: \n",
      "\n",
      "  =================================================================\n",
      "\n",
      "   WARNING: `mpl_finance` is deprecated:\n",
      "\n",
      "    Please use `mplfinance` instead (no hyphen, no underscore).\n",
      "\n",
      "    To install: `pip install --upgrade mplfinance` \n",
      "\n",
      "   For more information, see: https://pypi.org/project/mplfinance/\n",
      "\n",
      "  =================================================================\n",
      "\n",
      "  category=DeprecationWarning)\n"
     ]
    }
   ],
   "source": [
    "import keras as ks\n",
    "from keras.models import Sequential\n",
    "from keras.layers import LSTM,Dropout,Dense\n",
    "from sklearn.preprocessing import MinMaxScaler\n",
    "scaler=MinMaxScaler(feature_range=(0,1))\n",
    "import mpl_finance as mpf\n",
    "from mpl_finance import candlestick_ohlc\n",
    "import matplotlib.ticker as mticker\n",
    "from datetime import date\n",
    "from matplotlib.dates import date2num\n",
    "import matplotlib.dates as mdates\n",
    "import matplotlib.ticker as mticker\n",
    "import pandas as pd\n",
    "import matplotlib.pyplot as plt\n",
    "import matplotlib.dates as mdates\n",
    "import numpy as np\n",
    "import plotly.graph_objects as go\n",
    "import yfinance as yf"
   ]
  },
  {
   "cell_type": "markdown",
   "metadata": {},
   "source": [
    "Basic LSTM Creation Overview\n",
    "\n",
    "1. Prepare the data.\n",
    "2. Feature Scaling (Preprocessing of data)\n",
    "3. Split the dataset for train and test.\n",
    "4. Converting features into NumPy array and reshaping the array into shape accepted by LSTM model.\n",
    "5. Build the architecture for LSTM network.\n",
    "6. Compile and fit the model (Training)"
   ]
  },
  {
   "cell_type": "code",
   "execution_count": 2,
   "metadata": {},
   "outputs": [
    {
     "name": "stdout",
     "output_type": "stream",
     "text": [
      "[*********************100%***********************]  1 of 1 completed\n"
     ]
    }
   ],
   "source": [
    "spy = yf.download(\n",
    "        tickers = \"SPY\",\n",
    "        period = \"1d\",\n",
    "        interval = \"1m\",\n",
    "        group_by = 'column',\n",
    "        auto_adjust = False,\n",
    "        prepost = False,\n",
    "        threads = True,\n",
    "        proxy = None\n",
    "    )"
   ]
  },
  {
   "cell_type": "code",
   "execution_count": 3,
   "metadata": {},
   "outputs": [
    {
     "data": {
      "text/html": [
       "<div>\n",
       "<style scoped>\n",
       "    .dataframe tbody tr th:only-of-type {\n",
       "        vertical-align: middle;\n",
       "    }\n",
       "\n",
       "    .dataframe tbody tr th {\n",
       "        vertical-align: top;\n",
       "    }\n",
       "\n",
       "    .dataframe thead th {\n",
       "        text-align: right;\n",
       "    }\n",
       "</style>\n",
       "<table border=\"1\" class=\"dataframe\">\n",
       "  <thead>\n",
       "    <tr style=\"text-align: right;\">\n",
       "      <th></th>\n",
       "      <th>Open</th>\n",
       "      <th>High</th>\n",
       "      <th>Low</th>\n",
       "      <th>Close</th>\n",
       "      <th>Adj Close</th>\n",
       "      <th>Volume</th>\n",
       "    </tr>\n",
       "    <tr>\n",
       "      <th>Datetime</th>\n",
       "      <th></th>\n",
       "      <th></th>\n",
       "      <th></th>\n",
       "      <th></th>\n",
       "      <th></th>\n",
       "      <th></th>\n",
       "    </tr>\n",
       "  </thead>\n",
       "  <tbody>\n",
       "    <tr>\n",
       "      <th>2021-02-26 09:30:00-05:00</th>\n",
       "      <td>384.179993</td>\n",
       "      <td>384.179993</td>\n",
       "      <td>384.149994</td>\n",
       "      <td>384.179993</td>\n",
       "      <td>384.179993</td>\n",
       "      <td>3334041</td>\n",
       "    </tr>\n",
       "    <tr>\n",
       "      <th>2021-02-26 09:31:00-05:00</th>\n",
       "      <td>384.179993</td>\n",
       "      <td>384.200012</td>\n",
       "      <td>383.489990</td>\n",
       "      <td>383.980011</td>\n",
       "      <td>383.980011</td>\n",
       "      <td>559908</td>\n",
       "    </tr>\n",
       "    <tr>\n",
       "      <th>2021-02-26 09:32:00-05:00</th>\n",
       "      <td>383.989990</td>\n",
       "      <td>384.660004</td>\n",
       "      <td>383.929993</td>\n",
       "      <td>384.369995</td>\n",
       "      <td>384.369995</td>\n",
       "      <td>595142</td>\n",
       "    </tr>\n",
       "    <tr>\n",
       "      <th>2021-02-26 09:33:00-05:00</th>\n",
       "      <td>384.369995</td>\n",
       "      <td>384.390015</td>\n",
       "      <td>383.730011</td>\n",
       "      <td>384.019989</td>\n",
       "      <td>384.019989</td>\n",
       "      <td>654336</td>\n",
       "    </tr>\n",
       "    <tr>\n",
       "      <th>2021-02-26 09:34:00-05:00</th>\n",
       "      <td>384.035004</td>\n",
       "      <td>384.040009</td>\n",
       "      <td>383.535004</td>\n",
       "      <td>383.609985</td>\n",
       "      <td>383.609985</td>\n",
       "      <td>491513</td>\n",
       "    </tr>\n",
       "    <tr>\n",
       "      <th>...</th>\n",
       "      <td>...</td>\n",
       "      <td>...</td>\n",
       "      <td>...</td>\n",
       "      <td>...</td>\n",
       "      <td>...</td>\n",
       "      <td>...</td>\n",
       "    </tr>\n",
       "    <tr>\n",
       "      <th>2021-02-26 15:55:00-05:00</th>\n",
       "      <td>382.160004</td>\n",
       "      <td>382.309998</td>\n",
       "      <td>381.910004</td>\n",
       "      <td>382.200012</td>\n",
       "      <td>382.200012</td>\n",
       "      <td>1854153</td>\n",
       "    </tr>\n",
       "    <tr>\n",
       "      <th>2021-02-26 15:56:00-05:00</th>\n",
       "      <td>382.200012</td>\n",
       "      <td>382.570007</td>\n",
       "      <td>381.924988</td>\n",
       "      <td>382.190002</td>\n",
       "      <td>382.190002</td>\n",
       "      <td>2599613</td>\n",
       "    </tr>\n",
       "    <tr>\n",
       "      <th>2021-02-26 15:57:00-05:00</th>\n",
       "      <td>382.190002</td>\n",
       "      <td>382.334991</td>\n",
       "      <td>381.820007</td>\n",
       "      <td>381.869995</td>\n",
       "      <td>381.869995</td>\n",
       "      <td>1788121</td>\n",
       "    </tr>\n",
       "    <tr>\n",
       "      <th>2021-02-26 15:58:00-05:00</th>\n",
       "      <td>381.875000</td>\n",
       "      <td>381.959991</td>\n",
       "      <td>381.519989</td>\n",
       "      <td>381.820007</td>\n",
       "      <td>381.820007</td>\n",
       "      <td>3509538</td>\n",
       "    </tr>\n",
       "    <tr>\n",
       "      <th>2021-02-26 15:59:00-05:00</th>\n",
       "      <td>380.369995</td>\n",
       "      <td>380.410004</td>\n",
       "      <td>380.269989</td>\n",
       "      <td>380.320007</td>\n",
       "      <td>380.320007</td>\n",
       "      <td>3823583</td>\n",
       "    </tr>\n",
       "  </tbody>\n",
       "</table>\n",
       "<p>390 rows × 6 columns</p>\n",
       "</div>"
      ],
      "text/plain": [
       "                                 Open        High         Low       Close  \\\n",
       "Datetime                                                                    \n",
       "2021-02-26 09:30:00-05:00  384.179993  384.179993  384.149994  384.179993   \n",
       "2021-02-26 09:31:00-05:00  384.179993  384.200012  383.489990  383.980011   \n",
       "2021-02-26 09:32:00-05:00  383.989990  384.660004  383.929993  384.369995   \n",
       "2021-02-26 09:33:00-05:00  384.369995  384.390015  383.730011  384.019989   \n",
       "2021-02-26 09:34:00-05:00  384.035004  384.040009  383.535004  383.609985   \n",
       "...                               ...         ...         ...         ...   \n",
       "2021-02-26 15:55:00-05:00  382.160004  382.309998  381.910004  382.200012   \n",
       "2021-02-26 15:56:00-05:00  382.200012  382.570007  381.924988  382.190002   \n",
       "2021-02-26 15:57:00-05:00  382.190002  382.334991  381.820007  381.869995   \n",
       "2021-02-26 15:58:00-05:00  381.875000  381.959991  381.519989  381.820007   \n",
       "2021-02-26 15:59:00-05:00  380.369995  380.410004  380.269989  380.320007   \n",
       "\n",
       "                            Adj Close   Volume  \n",
       "Datetime                                        \n",
       "2021-02-26 09:30:00-05:00  384.179993  3334041  \n",
       "2021-02-26 09:31:00-05:00  383.980011   559908  \n",
       "2021-02-26 09:32:00-05:00  384.369995   595142  \n",
       "2021-02-26 09:33:00-05:00  384.019989   654336  \n",
       "2021-02-26 09:34:00-05:00  383.609985   491513  \n",
       "...                               ...      ...  \n",
       "2021-02-26 15:55:00-05:00  382.200012  1854153  \n",
       "2021-02-26 15:56:00-05:00  382.190002  2599613  \n",
       "2021-02-26 15:57:00-05:00  381.869995  1788121  \n",
       "2021-02-26 15:58:00-05:00  381.820007  3509538  \n",
       "2021-02-26 15:59:00-05:00  380.320007  3823583  \n",
       "\n",
       "[390 rows x 6 columns]"
      ]
     },
     "execution_count": 3,
     "metadata": {},
     "output_type": "execute_result"
    }
   ],
   "source": [
    "spy"
   ]
  },
  {
   "cell_type": "code",
   "execution_count": 4,
   "metadata": {},
   "outputs": [],
   "source": [
    "data = spy\n",
    "data = spy.filter(['Close'])"
   ]
  },
  {
   "cell_type": "code",
   "execution_count": 5,
   "metadata": {},
   "outputs": [],
   "source": [
    "# Convert the dataframe to numpy array\n",
    "df = data.values"
   ]
  },
  {
   "cell_type": "code",
   "execution_count": 6,
   "metadata": {},
   "outputs": [
    {
     "data": {
      "text/plain": [
       "312"
      ]
     },
     "execution_count": 6,
     "metadata": {},
     "output_type": "execute_result"
    }
   ],
   "source": [
    "# Get the number of rows to train the model on\n",
    "training_data_len = int(np.ceil(len(df)*.8))\n",
    "training_data_len"
   ]
  },
  {
   "cell_type": "code",
   "execution_count": 7,
   "metadata": {},
   "outputs": [],
   "source": [
    "# Scale the data\n",
    "scaler = MinMaxScaler(feature_range=(0,1))\n",
    "scaled_data = scaler.fit_transform(df)"
   ]
  },
  {
   "cell_type": "code",
   "execution_count": 8,
   "metadata": {},
   "outputs": [],
   "source": [
    "#Create the scaled training data set\n",
    "train_data = scaled_data[0:int(training_data_len), :]"
   ]
  },
  {
   "cell_type": "code",
   "execution_count": 9,
   "metadata": {},
   "outputs": [],
   "source": [
    "#Split the data into x_train and y_train\n",
    "x_train = []\n",
    "y_train = []\n",
    "\n",
    "for i in range(60, len(train_data)):\n",
    "    x_train.append(train_data[i-60:i,0])\n",
    "    y_train.append(train_data[i,0])"
   ]
  },
  {
   "cell_type": "code",
   "execution_count": 10,
   "metadata": {},
   "outputs": [],
   "source": [
    "#convert the x_train and y_train to numpy arrays\n",
    "x_train = np.array(x_train)\n",
    "y_train = np.array(y_train)"
   ]
  },
  {
   "cell_type": "code",
   "execution_count": 11,
   "metadata": {},
   "outputs": [],
   "source": [
    "#reshape the data\n",
    "x_train = np.reshape(x_train, (x_train.shape[0], x_train.shape[1], 1))"
   ]
  },
  {
   "cell_type": "code",
   "execution_count": 12,
   "metadata": {},
   "outputs": [],
   "source": [
    "#Build the LSTM model\n",
    "lstm_model = Sequential()\n",
    "lstm_model.add(LSTM(128, return_sequences=True, input_shape= (x_train.shape[1], 1)))\n",
    "lstm_model.add(LSTM(64, return_sequences=False))\n",
    "lstm_model.add(Dense(25))\n",
    "lstm_model.add(Dense(1))"
   ]
  },
  {
   "cell_type": "code",
   "execution_count": 13,
   "metadata": {},
   "outputs": [
    {
     "name": "stdout",
     "output_type": "stream",
     "text": [
      "Epoch 1/100\n",
      "8/8 [==============================] - 16s 127ms/step - loss: 0.2436\n",
      "Epoch 2/100\n",
      "8/8 [==============================] - 1s 123ms/step - loss: 0.0199\n",
      "Epoch 3/100\n",
      "8/8 [==============================] - 1s 119ms/step - loss: 0.0139\n",
      "Epoch 4/100\n",
      "8/8 [==============================] - 1s 120ms/step - loss: 0.0106\n",
      "Epoch 5/100\n",
      "8/8 [==============================] - 1s 135ms/step - loss: 0.0097\n",
      "Epoch 6/100\n",
      "8/8 [==============================] - 1s 132ms/step - loss: 0.0077\n",
      "Epoch 7/100\n",
      "8/8 [==============================] - 1s 127ms/step - loss: 0.0080\n",
      "Epoch 8/100\n",
      "8/8 [==============================] - 1s 127ms/step - loss: 0.0079\n",
      "Epoch 9/100\n",
      "8/8 [==============================] - 1s 129ms/step - loss: 0.0074\n",
      "Epoch 10/100\n",
      "8/8 [==============================] - 1s 113ms/step - loss: 0.0066\n",
      "Epoch 11/100\n",
      "8/8 [==============================] - 1s 114ms/step - loss: 0.0073\n",
      "Epoch 12/100\n",
      "8/8 [==============================] - 1s 127ms/step - loss: 0.0068\n",
      "Epoch 13/100\n",
      "8/8 [==============================] - 1s 127ms/step - loss: 0.0067\n",
      "Epoch 14/100\n",
      "8/8 [==============================] - 1s 131ms/step - loss: 0.0067\n",
      "Epoch 15/100\n",
      "8/8 [==============================] - 1s 118ms/step - loss: 0.0069\n",
      "Epoch 16/100\n",
      "8/8 [==============================] - 1s 121ms/step - loss: 0.0064\n",
      "Epoch 17/100\n",
      "8/8 [==============================] - 1s 123ms/step - loss: 0.0055\n",
      "Epoch 18/100\n",
      "8/8 [==============================] - 1s 123ms/step - loss: 0.0061\n",
      "Epoch 19/100\n",
      "8/8 [==============================] - 1s 125ms/step - loss: 0.0052\n",
      "Epoch 20/100\n",
      "8/8 [==============================] - 1s 128ms/step - loss: 0.0052\n",
      "Epoch 21/100\n",
      "8/8 [==============================] - 1s 123ms/step - loss: 0.0051\n",
      "Epoch 22/100\n",
      "8/8 [==============================] - 1s 116ms/step - loss: 0.0052\n",
      "Epoch 23/100\n",
      "8/8 [==============================] - 1s 122ms/step - loss: 0.0058\n",
      "Epoch 24/100\n",
      "8/8 [==============================] - 1s 117ms/step - loss: 0.0051\n",
      "Epoch 25/100\n",
      "8/8 [==============================] - 1s 119ms/step - loss: 0.0051\n",
      "Epoch 26/100\n",
      "8/8 [==============================] - 1s 121ms/step - loss: 0.0046\n",
      "Epoch 27/100\n",
      "8/8 [==============================] - 1s 124ms/step - loss: 0.0048\n",
      "Epoch 28/100\n",
      "8/8 [==============================] - 1s 127ms/step - loss: 0.0041\n",
      "Epoch 29/100\n",
      "8/8 [==============================] - 1s 126ms/step - loss: 0.0044\n",
      "Epoch 30/100\n",
      "8/8 [==============================] - 1s 123ms/step - loss: 0.0042\n",
      "Epoch 31/100\n",
      "8/8 [==============================] - 1s 125ms/step - loss: 0.0049\n",
      "Epoch 32/100\n",
      "8/8 [==============================] - 1s 120ms/step - loss: 0.0051\n",
      "Epoch 33/100\n",
      "8/8 [==============================] - 1s 121ms/step - loss: 0.0045\n",
      "Epoch 34/100\n",
      "8/8 [==============================] - 1s 122ms/step - loss: 0.0039\n",
      "Epoch 35/100\n",
      "8/8 [==============================] - 1s 128ms/step - loss: 0.0037\n",
      "Epoch 36/100\n",
      "8/8 [==============================] - 1s 123ms/step - loss: 0.0037\n",
      "Epoch 37/100\n",
      "8/8 [==============================] - 1s 123ms/step - loss: 0.0037\n",
      "Epoch 38/100\n",
      "8/8 [==============================] - 1s 125ms/step - loss: 0.0035\n",
      "Epoch 39/100\n",
      "8/8 [==============================] - 1s 117ms/step - loss: 0.0034\n",
      "Epoch 40/100\n",
      "8/8 [==============================] - 1s 127ms/step - loss: 0.0029\n",
      "Epoch 41/100\n",
      "8/8 [==============================] - 1s 125ms/step - loss: 0.0032\n",
      "Epoch 42/100\n",
      "8/8 [==============================] - 1s 117ms/step - loss: 0.0031\n",
      "Epoch 43/100\n",
      "8/8 [==============================] - 1s 128ms/step - loss: 0.0033\n",
      "Epoch 44/100\n",
      "8/8 [==============================] - 1s 122ms/step - loss: 0.0030\n",
      "Epoch 45/100\n",
      "8/8 [==============================] - 1s 124ms/step - loss: 0.0032\n",
      "Epoch 46/100\n",
      "8/8 [==============================] - 1s 120ms/step - loss: 0.0030\n",
      "Epoch 47/100\n",
      "8/8 [==============================] - 1s 120ms/step - loss: 0.0027\n",
      "Epoch 48/100\n",
      "8/8 [==============================] - 1s 111ms/step - loss: 0.0028\n",
      "Epoch 49/100\n",
      "8/8 [==============================] - 1s 116ms/step - loss: 0.0026\n",
      "Epoch 50/100\n",
      "8/8 [==============================] - 1s 116ms/step - loss: 0.0031\n",
      "Epoch 51/100\n",
      "8/8 [==============================] - 1s 124ms/step - loss: 0.0024\n",
      "Epoch 52/100\n",
      "8/8 [==============================] - 1s 122ms/step - loss: 0.0029\n",
      "Epoch 53/100\n",
      "8/8 [==============================] - 1s 122ms/step - loss: 0.0027\n",
      "Epoch 54/100\n",
      "8/8 [==============================] - 1s 130ms/step - loss: 0.0026\n",
      "Epoch 55/100\n",
      "8/8 [==============================] - 1s 129ms/step - loss: 0.0027\n",
      "Epoch 56/100\n",
      "8/8 [==============================] - 1s 127ms/step - loss: 0.0029\n",
      "Epoch 57/100\n",
      "8/8 [==============================] - 1s 127ms/step - loss: 0.0031\n",
      "Epoch 58/100\n",
      "8/8 [==============================] - 1s 126ms/step - loss: 0.0036\n",
      "Epoch 59/100\n",
      "8/8 [==============================] - 1s 124ms/step - loss: 0.0034\n",
      "Epoch 60/100\n",
      "8/8 [==============================] - 1s 122ms/step - loss: 0.0027\n",
      "Epoch 61/100\n",
      "8/8 [==============================] - 1s 124ms/step - loss: 0.0022\n",
      "Epoch 62/100\n",
      "8/8 [==============================] - 1s 123ms/step - loss: 0.0024\n",
      "Epoch 63/100\n",
      "8/8 [==============================] - 1s 124ms/step - loss: 0.0021\n",
      "Epoch 64/100\n",
      "8/8 [==============================] - 1s 125ms/step - loss: 0.0023\n",
      "Epoch 65/100\n",
      "8/8 [==============================] - 1s 125ms/step - loss: 0.0024\n",
      "Epoch 66/100\n",
      "8/8 [==============================] - 1s 127ms/step - loss: 0.0025\n",
      "Epoch 67/100\n",
      "8/8 [==============================] - 1s 122ms/step - loss: 0.0024\n",
      "Epoch 68/100\n",
      "8/8 [==============================] - 1s 120ms/step - loss: 0.0028\n",
      "Epoch 69/100\n",
      "8/8 [==============================] - 1s 133ms/step - loss: 0.0027\n",
      "Epoch 70/100\n",
      "8/8 [==============================] - 1s 124ms/step - loss: 0.0027\n",
      "Epoch 71/100\n",
      "8/8 [==============================] - 1s 128ms/step - loss: 0.0028\n",
      "Epoch 72/100\n",
      "8/8 [==============================] - 1s 122ms/step - loss: 0.0020\n",
      "Epoch 73/100\n",
      "8/8 [==============================] - 1s 119ms/step - loss: 0.0032\n",
      "Epoch 74/100\n",
      "8/8 [==============================] - 1s 123ms/step - loss: 0.0029\n",
      "Epoch 75/100\n",
      "8/8 [==============================] - 1s 119ms/step - loss: 0.0025\n",
      "Epoch 76/100\n",
      "8/8 [==============================] - 1s 118ms/step - loss: 0.0022\n",
      "Epoch 77/100\n",
      "8/8 [==============================] - 1s 126ms/step - loss: 0.0025\n",
      "Epoch 78/100\n",
      "8/8 [==============================] - 1s 109ms/step - loss: 0.0026\n",
      "Epoch 79/100\n",
      "8/8 [==============================] - 1s 138ms/step - loss: 0.0023\n",
      "Epoch 80/100\n",
      "8/8 [==============================] - 1s 143ms/step - loss: 0.0023\n",
      "Epoch 81/100\n",
      "8/8 [==============================] - 1s 114ms/step - loss: 0.0022\n",
      "Epoch 82/100\n",
      "8/8 [==============================] - 1s 117ms/step - loss: 0.0020\n",
      "Epoch 83/100\n",
      "8/8 [==============================] - 1s 123ms/step - loss: 0.0024\n",
      "Epoch 84/100\n",
      "8/8 [==============================] - 1s 124ms/step - loss: 0.0022\n",
      "Epoch 85/100\n",
      "8/8 [==============================] - 1s 126ms/step - loss: 0.0019\n",
      "Epoch 86/100\n",
      "8/8 [==============================] - 1s 131ms/step - loss: 0.0020\n",
      "Epoch 87/100\n",
      "8/8 [==============================] - 1s 123ms/step - loss: 0.0021\n",
      "Epoch 88/100\n",
      "8/8 [==============================] - 1s 120ms/step - loss: 0.0020\n",
      "Epoch 89/100\n",
      "8/8 [==============================] - 1s 125ms/step - loss: 0.0021\n",
      "Epoch 90/100\n",
      "8/8 [==============================] - 1s 124ms/step - loss: 0.0024\n",
      "Epoch 91/100\n",
      "8/8 [==============================] - 1s 123ms/step - loss: 0.0023\n",
      "Epoch 92/100\n",
      "8/8 [==============================] - 1s 128ms/step - loss: 0.0023\n",
      "Epoch 93/100\n",
      "8/8 [==============================] - 1s 132ms/step - loss: 0.0023\n",
      "Epoch 94/100\n",
      "8/8 [==============================] - 1s 178ms/step - loss: 0.0021\n",
      "Epoch 95/100\n",
      "8/8 [==============================] - 1s 153ms/step - loss: 0.0019\n",
      "Epoch 96/100\n",
      "8/8 [==============================] - 1s 147ms/step - loss: 0.0018\n",
      "Epoch 97/100\n",
      "8/8 [==============================] - 1s 135ms/step - loss: 0.0019\n",
      "Epoch 98/100\n",
      "8/8 [==============================] - 1s 145ms/step - loss: 0.0019\n",
      "Epoch 99/100\n",
      "8/8 [==============================] - 1s 141ms/step - loss: 0.0020\n",
      "Epoch 100/100\n",
      "8/8 [==============================] - 1s 141ms/step - loss: 0.0018\n"
     ]
    },
    {
     "data": {
      "text/plain": [
       "<tensorflow.python.keras.callbacks.History at 0x7fa796e88278>"
      ]
     },
     "execution_count": 13,
     "metadata": {},
     "output_type": "execute_result"
    }
   ],
   "source": [
    "#compile and fit\n",
    "lstm_model.compile(optimizer='adam',loss='mean_squared_error')\n",
    "lstm_model.fit(x_train,y_train,epochs=100,batch_size=32)"
   ]
  },
  {
   "cell_type": "code",
   "execution_count": 14,
   "metadata": {},
   "outputs": [],
   "source": [
    "#Create the testing data set\n",
    "test_data = scaled_data[training_data_len - 60: , :]\n",
    "#Create the data sets x_test and y_test\n",
    "x_test = []\n",
    "y_test = df[training_data_len:, :]\n",
    "for i in range(60, len(test_data)):\n",
    "    x_test.append(test_data[i-60:i, 0])"
   ]
  },
  {
   "cell_type": "code",
   "execution_count": 15,
   "metadata": {},
   "outputs": [],
   "source": [
    "#Convert to numpy array\n",
    "x_test = np.array(x_test)"
   ]
  },
  {
   "cell_type": "code",
   "execution_count": 16,
   "metadata": {},
   "outputs": [],
   "source": [
    "# Reshape the data\n",
    "x_test = np.reshape(x_test, (x_test.shape[0], x_test.shape[1], 1 ))"
   ]
  },
  {
   "cell_type": "code",
   "execution_count": 17,
   "metadata": {},
   "outputs": [],
   "source": [
    "#get model predictions\n",
    "preds = lstm_model.predict(x_test)\n",
    "preds = scaler.inverse_transform(preds)"
   ]
  },
  {
   "cell_type": "code",
   "execution_count": 18,
   "metadata": {},
   "outputs": [
    {
     "data": {
      "text/plain": [
       "0.3526131410000847"
      ]
     },
     "execution_count": 18,
     "metadata": {},
     "output_type": "execute_result"
    }
   ],
   "source": [
    "#Get RMSE\n",
    "rmse = np.sqrt(np.mean(((preds - y_test) **2)))\n",
    "rmse"
   ]
  },
  {
   "cell_type": "code",
   "execution_count": 19,
   "metadata": {},
   "outputs": [
    {
     "name": "stdout",
     "output_type": "stream",
     "text": [
      "Model: \"sequential\"\n",
      "_________________________________________________________________\n",
      "Layer (type)                 Output Shape              Param #   \n",
      "=================================================================\n",
      "lstm (LSTM)                  (None, 60, 128)           66560     \n",
      "_________________________________________________________________\n",
      "lstm_1 (LSTM)                (None, 64)                49408     \n",
      "_________________________________________________________________\n",
      "dense (Dense)                (None, 25)                1625      \n",
      "_________________________________________________________________\n",
      "dense_1 (Dense)              (None, 1)                 26        \n",
      "=================================================================\n",
      "Total params: 117,619\n",
      "Trainable params: 117,619\n",
      "Non-trainable params: 0\n",
      "_________________________________________________________________\n"
     ]
    }
   ],
   "source": [
    "lstm_model.summary()"
   ]
  },
  {
   "cell_type": "code",
   "execution_count": 20,
   "metadata": {},
   "outputs": [],
   "source": [
    "lstm_model.save(\"saved_model_2.h5\")"
   ]
  },
  {
   "cell_type": "code",
   "execution_count": 22,
   "metadata": {},
   "outputs": [
    {
     "name": "stderr",
     "output_type": "stream",
     "text": [
      "/Users/andrewbanner/opt/anaconda3/envs/learn-env/lib/python3.6/site-packages/ipykernel_launcher.py:4: SettingWithCopyWarning:\n",
      "\n",
      "\n",
      "A value is trying to be set on a copy of a slice from a DataFrame.\n",
      "Try using .loc[row_indexer,col_indexer] = value instead\n",
      "\n",
      "See the caveats in the documentation: https://pandas.pydata.org/pandas-docs/stable/user_guide/indexing.html#returning-a-view-versus-a-copy\n",
      "\n"
     ]
    },
    {
     "data": {
      "image/png": "[encoded data removed]",
      "text/plain": [
       "<Figure size 1152x576 with 1 Axes>"
      ]
     },
     "metadata": {
      "needs_background": "light"
     },
     "output_type": "display_data"
    }
   ],
   "source": [
    "# Plot the data\n",
    "train = data[:training_data_len]\n",
    "valid = data[training_data_len:]\n",
    "valid['Predictions'] = preds\n",
    "# Visualize the data\n",
    "plt.figure(figsize=(16,8))\n",
    "plt.title('LSTM MODEL SPY - 1Day - 1min')\n",
    "plt.xlabel('Date', fontsize=18)\n",
    "plt.ylabel('Close Price USD ($)', fontsize=18)\n",
    "plt.plot(train['Close'])\n",
    "plt.plot(valid[['Close', 'Predictions']])\n",
    "plt.legend(['Train', 'Val', 'Predictions'], loc='upper left')\n",
    "plt.show()"
   ]
  },
  {
   "cell_type": "code",
   "execution_count": null,
   "metadata": {},
   "outputs": [],
   "source": []
  },
  {
   "cell_type": "code",
   "execution_count": null,
   "metadata": {},
   "outputs": [],
   "source": []
  },
  {
   "cell_type": "code",
   "execution_count": null,
   "metadata": {},
   "outputs": [],
   "source": []
  },
  {
   "cell_type": "code",
   "execution_count": null,
   "metadata": {},
   "outputs": [],
   "source": []
  }
 ],
 "metadata": {
  "kernelspec": {
   "display_name": "Python 3",
   "language": "python",
   "name": "python3"
  },
  "language_info": {
   "codemirror_mode": {
    "name": "ipython",
    "version": 3
   },
   "file_extension": ".py",
   "mimetype": "text/x-python",
   "name": "python",
   "nbconvert_exporter": "python",
   "pygments_lexer": "ipython3",
   "version": "3.6.9"
  },
  "toc": {
   "base_numbering": 1,
   "nav_menu": {},
   "number_sections": true,
   "sideBar": true,
   "skip_h1_title": false,
   "title_cell": "Table of Contents",
   "title_sidebar": "Contents",
   "toc_cell": false,
   "toc_position": {},
   "toc_section_display": true,
   "toc_window_display": false
  }
 },
 "nbformat": 4,
 "nbformat_minor": 4
}
