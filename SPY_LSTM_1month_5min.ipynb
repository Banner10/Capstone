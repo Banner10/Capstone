{
 "cells": [
  {
   "cell_type": "code",
   "execution_count": 21,
   "metadata": {},
   "outputs": [],
   "source": [
    "import keras as ks\n",
    "from keras.models import Sequential\n",
    "from keras.layers import LSTM,Dropout,Dense\n",
    "from sklearn.preprocessing import MinMaxScaler\n",
    "scaler=MinMaxScaler(feature_range=(0,1))\n",
    "import mpl_finance as mpf\n",
    "from mpl_finance import candlestick_ohlc\n",
    "import matplotlib.ticker as mticker\n",
    "from datetime import date\n",
    "from matplotlib.dates import date2num\n",
    "import matplotlib.dates as mdates\n",
    "import matplotlib.ticker as mticker\n",
    "import pandas as pd\n",
    "import matplotlib.pyplot as plt\n",
    "import matplotlib.dates as mdates\n",
    "import numpy as np\n",
    "import plotly.graph_objects as go\n",
    "import yfinance as yf"
   ]
  },
  {
   "cell_type": "markdown",
   "metadata": {},
   "source": [
    "Basic LSTM Creation Overview\n",
    "\n",
    "1. Prepare the data.\n",
    "2. Feature Scaling (Preprocessing of data)\n",
    "3. Split the dataset for train and test.\n",
    "4. Converting features into NumPy array and reshaping the array into shape accepted by LSTM model.\n",
    "5. Build the architecture for LSTM network.\n",
    "6. Compile and fit the model (Training)"
   ]
  },
  {
   "cell_type": "code",
   "execution_count": 24,
   "metadata": {},
   "outputs": [
    {
     "name": "stdout",
     "output_type": "stream",
     "text": [
      "Collecting colorlover\n",
      "  Downloading colorlover-0.3.0-py3-none-any.whl (8.9 kB)\n",
      "Installing collected packages: colorlover\n",
      "Successfully installed colorlover-0.3.0\n"
     ]
    }
   ],
   "source": [
    "! pip install colorlover\n"
   ]
  },
  {
   "cell_type": "code",
   "execution_count": 2,
   "metadata": {},
   "outputs": [
    {
     "name": "stdout",
     "output_type": "stream",
     "text": [
      "[*********************100%***********************]  1 of 1 completed\n"
     ]
    }
   ],
   "source": [
    "spy = yf.download(\n",
    "        tickers = \"SPY\",\n",
    "        period = \"1mo\",\n",
    "        interval = \"5m\",\n",
    "        group_by = 'column',\n",
    "        auto_adjust = False,\n",
    "        prepost = False,\n",
    "        threads = True,\n",
    "        proxy = None\n",
    "    )"
   ]
  },
  {
   "cell_type": "code",
   "execution_count": 3,
   "metadata": {},
   "outputs": [],
   "source": [
    "data = spy\n",
    "data = spy.filter(['Close'])"
   ]
  },
  {
   "cell_type": "code",
   "execution_count": 4,
   "metadata": {},
   "outputs": [],
   "source": [
    "# Convert the dataframe to numpy array\n",
    "df = data.values"
   ]
  },
  {
   "cell_type": "code",
   "execution_count": 5,
   "metadata": {},
   "outputs": [
    {
     "data": {
      "text/plain": [
       "1375"
      ]
     },
     "execution_count": 5,
     "metadata": {},
     "output_type": "execute_result"
    }
   ],
   "source": [
    "# Get the number of rows to train the model on\n",
    "training_data_len = int(np.ceil(len(df)*.8))\n",
    "training_data_len"
   ]
  },
  {
   "cell_type": "code",
   "execution_count": 6,
   "metadata": {},
   "outputs": [],
   "source": [
    "# Scale the data\n",
    "scaler = MinMaxScaler(feature_range=(0,1))\n",
    "scaled_data = scaler.fit_transform(df)"
   ]
  },
  {
   "cell_type": "code",
   "execution_count": 7,
   "metadata": {},
   "outputs": [],
   "source": [
    "#Create the scaled training data set\n",
    "train_data = scaled_data[0:int(training_data_len), :]"
   ]
  },
  {
   "cell_type": "code",
   "execution_count": 8,
   "metadata": {},
   "outputs": [],
   "source": [
    "#Split the data into x_train and y_train\n",
    "x_train = []\n",
    "y_train = []\n",
    "\n",
    "for i in range(60, len(train_data)):\n",
    "    x_train.append(train_data[i-60:i,0])\n",
    "    y_train.append(train_data[i,0])"
   ]
  },
  {
   "cell_type": "code",
   "execution_count": 9,
   "metadata": {},
   "outputs": [],
   "source": [
    "#convert the x_train and y_train to numpy arrays\n",
    "x_train = np.array(x_train)\n",
    "y_train = np.array(y_train)"
   ]
  },
  {
   "cell_type": "code",
   "execution_count": 10,
   "metadata": {},
   "outputs": [],
   "source": [
    "#reshape the data\n",
    "x_train = np.reshape(x_train, (x_train.shape[0], x_train.shape[1], 1))"
   ]
  },
  {
   "cell_type": "code",
   "execution_count": 11,
   "metadata": {},
   "outputs": [],
   "source": [
    "#Build the LSTM model\n",
    "lstm_model = Sequential()\n",
    "lstm_model.add(LSTM(128, return_sequences=True, input_shape= (x_train.shape[1], 1)))\n",
    "lstm_model.add(LSTM(64, return_sequences=False))\n",
    "lstm_model.add(Dense(25))\n",
    "lstm_model.add(Dense(1))"
   ]
  },
  {
   "cell_type": "code",
   "execution_count": 12,
   "metadata": {},
   "outputs": [
    {
     "name": "stdout",
     "output_type": "stream",
     "text": [
      "Epoch 1/50\n",
      "42/42 [==============================] - 6s 67ms/step - loss: 0.0866\n",
      "Epoch 2/50\n",
      "42/42 [==============================] - 3s 61ms/step - loss: 0.0021\n",
      "Epoch 3/50\n",
      "42/42 [==============================] - 2s 57ms/step - loss: 0.0011\n",
      "Epoch 4/50\n",
      "42/42 [==============================] - 2s 50ms/step - loss: 0.0012\n",
      "Epoch 5/50\n",
      "42/42 [==============================] - 2s 54ms/step - loss: 0.0013\n",
      "Epoch 6/50\n",
      "42/42 [==============================] - 2s 49ms/step - loss: 0.0012\n",
      "Epoch 7/50\n",
      "42/42 [==============================] - 2s 50ms/step - loss: 0.0011\n",
      "Epoch 8/50\n",
      "42/42 [==============================] - 2s 58ms/step - loss: 0.0010\n",
      "Epoch 9/50\n",
      "42/42 [==============================] - 3s 63ms/step - loss: 9.9775e-04\n",
      "Epoch 10/50\n",
      "42/42 [==============================] - 3s 62ms/step - loss: 9.9683e-04\n",
      "Epoch 11/50\n",
      "42/42 [==============================] - 2s 55ms/step - loss: 0.0012\n",
      "Epoch 12/50\n",
      "42/42 [==============================] - 3s 61ms/step - loss: 0.0011\n",
      "Epoch 13/50\n",
      "42/42 [==============================] - 3s 66ms/step - loss: 0.0011\n",
      "Epoch 14/50\n",
      "42/42 [==============================] - 2s 58ms/step - loss: 0.0011\n",
      "Epoch 15/50\n",
      "42/42 [==============================] - 2s 54ms/step - loss: 9.2637e-04\n",
      "Epoch 16/50\n",
      "42/42 [==============================] - 3s 61ms/step - loss: 0.0011\n",
      "Epoch 17/50\n",
      "42/42 [==============================] - 3s 63ms/step - loss: 9.1527e-04\n",
      "Epoch 18/50\n",
      "42/42 [==============================] - 2s 58ms/step - loss: 7.3599e-04\n",
      "Epoch 19/50\n",
      "42/42 [==============================] - 2s 53ms/step - loss: 0.0011\n",
      "Epoch 20/50\n",
      "42/42 [==============================] - 2s 53ms/step - loss: 7.8217e-04\n",
      "Epoch 21/50\n",
      "42/42 [==============================] - 2s 57ms/step - loss: 7.9264e-04\n",
      "Epoch 22/50\n",
      "42/42 [==============================] - 2s 53ms/step - loss: 7.5010e-04\n",
      "Epoch 23/50\n",
      "42/42 [==============================] - 2s 58ms/step - loss: 6.8273e-04\n",
      "Epoch 24/50\n",
      "42/42 [==============================] - 2s 53ms/step - loss: 9.8138e-04\n",
      "Epoch 25/50\n",
      "42/42 [==============================] - 3s 64ms/step - loss: 7.4736e-04\n",
      "Epoch 26/50\n",
      "42/42 [==============================] - 3s 60ms/step - loss: 7.6968e-04\n",
      "Epoch 27/50\n",
      "42/42 [==============================] - 2s 54ms/step - loss: 7.2415e-04\n",
      "Epoch 28/50\n",
      "42/42 [==============================] - 2s 55ms/step - loss: 6.3663e-04\n",
      "Epoch 29/50\n",
      "42/42 [==============================] - 2s 54ms/step - loss: 6.7027e-04\n",
      "Epoch 30/50\n",
      "42/42 [==============================] - 2s 57ms/step - loss: 5.6920e-04\n",
      "Epoch 31/50\n",
      "42/42 [==============================] - 2s 54ms/step - loss: 5.4902e-04\n",
      "Epoch 32/50\n",
      "42/42 [==============================] - 2s 54ms/step - loss: 5.7870e-04\n",
      "Epoch 33/50\n",
      "42/42 [==============================] - 2s 53ms/step - loss: 5.2045e-04\n",
      "Epoch 34/50\n",
      "42/42 [==============================] - 2s 52ms/step - loss: 8.4110e-04\n",
      "Epoch 35/50\n",
      "42/42 [==============================] - 2s 58ms/step - loss: 5.0653e-04\n",
      "Epoch 36/50\n",
      "42/42 [==============================] - 2s 56ms/step - loss: 5.7877e-04\n",
      "Epoch 37/50\n",
      "42/42 [==============================] - 2s 54ms/step - loss: 4.9594e-04\n",
      "Epoch 38/50\n",
      "42/42 [==============================] - 2s 56ms/step - loss: 5.1456e-04\n",
      "Epoch 39/50\n",
      "42/42 [==============================] - 2s 56ms/step - loss: 4.6359e-04\n",
      "Epoch 40/50\n",
      "42/42 [==============================] - 2s 59ms/step - loss: 6.0670e-04\n",
      "Epoch 41/50\n",
      "42/42 [==============================] - 2s 57ms/step - loss: 4.0334e-04\n",
      "Epoch 42/50\n",
      "42/42 [==============================] - 3s 62ms/step - loss: 4.4332e-04\n",
      "Epoch 43/50\n",
      "42/42 [==============================] - 3s 63ms/step - loss: 3.5891e-04\n",
      "Epoch 44/50\n",
      "42/42 [==============================] - 2s 58ms/step - loss: 0.0010\n",
      "Epoch 45/50\n",
      "42/42 [==============================] - 2s 55ms/step - loss: 3.9714e-04\n",
      "Epoch 46/50\n",
      "42/42 [==============================] - 2s 58ms/step - loss: 3.8706e-04\n",
      "Epoch 47/50\n",
      "42/42 [==============================] - 2s 55ms/step - loss: 4.7438e-04\n",
      "Epoch 48/50\n",
      "42/42 [==============================] - 2s 59ms/step - loss: 4.3407e-04\n",
      "Epoch 49/50\n",
      "42/42 [==============================] - 2s 58ms/step - loss: 3.1754e-04\n",
      "Epoch 50/50\n",
      "42/42 [==============================] - 2s 55ms/step - loss: 4.2338e-04\n"
     ]
    },
    {
     "data": {
      "text/plain": [
       "<tensorflow.python.keras.callbacks.History at 0x7f911bf671d0>"
      ]
     },
     "execution_count": 12,
     "metadata": {},
     "output_type": "execute_result"
    }
   ],
   "source": [
    "#compile and fit\n",
    "lstm_model.compile(optimizer='adam',loss='mean_squared_error')\n",
    "lstm_model.fit(x_train,y_train,epochs=50,batch_size=32)"
   ]
  },
  {
   "cell_type": "code",
   "execution_count": 13,
   "metadata": {},
   "outputs": [],
   "source": [
    "#Create the testing data set\n",
    "test_data = scaled_data[training_data_len - 60: , :]\n",
    "#Create the data sets x_test and y_test\n",
    "x_test = []\n",
    "y_test = df[training_data_len:, :]\n",
    "for i in range(60, len(test_data)):\n",
    "    x_test.append(test_data[i-60:i, 0])"
   ]
  },
  {
   "cell_type": "code",
   "execution_count": 14,
   "metadata": {},
   "outputs": [],
   "source": [
    "#Convert to numpy array\n",
    "x_test = np.array(x_test)"
   ]
  },
  {
   "cell_type": "code",
   "execution_count": 15,
   "metadata": {},
   "outputs": [],
   "source": [
    "# Reshape the data\n",
    "x_test = np.reshape(x_test, (x_test.shape[0], x_test.shape[1], 1 ))"
   ]
  },
  {
   "cell_type": "code",
   "execution_count": 16,
   "metadata": {},
   "outputs": [],
   "source": [
    "#get model predictions\n",
    "preds = lstm_model.predict(x_test)\n",
    "preds = scaler.inverse_transform(preds)"
   ]
  },
  {
   "cell_type": "code",
   "execution_count": 17,
   "metadata": {},
   "outputs": [
    {
     "data": {
      "text/plain": [
       "0.5889951952445686"
      ]
     },
     "execution_count": 17,
     "metadata": {},
     "output_type": "execute_result"
    }
   ],
   "source": [
    "#Get RMSE\n",
    "rmse = np.sqrt(np.mean(((preds - y_test) **2)))\n",
    "rmse"
   ]
  },
  {
   "cell_type": "code",
   "execution_count": 18,
   "metadata": {},
   "outputs": [
    {
     "name": "stdout",
     "output_type": "stream",
     "text": [
      "Model: \"sequential\"\n",
      "_________________________________________________________________\n",
      "Layer (type)                 Output Shape              Param #   \n",
      "=================================================================\n",
      "lstm (LSTM)                  (None, 60, 128)           66560     \n",
      "_________________________________________________________________\n",
      "lstm_1 (LSTM)                (None, 64)                49408     \n",
      "_________________________________________________________________\n",
      "dense (Dense)                (None, 25)                1625      \n",
      "_________________________________________________________________\n",
      "dense_1 (Dense)              (None, 1)                 26        \n",
      "=================================================================\n",
      "Total params: 117,619\n",
      "Trainable params: 117,619\n",
      "Non-trainable params: 0\n",
      "_________________________________________________________________\n"
     ]
    }
   ],
   "source": [
    "lstm_model.summary()"
   ]
  },
  {
   "cell_type": "code",
   "execution_count": 19,
   "metadata": {},
   "outputs": [],
   "source": [
    "lstm_model.save(\"saved_model_1.h5\")"
   ]
  },
  {
   "cell_type": "code",
   "execution_count": 20,
   "metadata": {},
   "outputs": [
    {
     "name": "stderr",
     "output_type": "stream",
     "text": [
      "/Users/andrewbanner/opt/anaconda3/envs/learn-env/lib/python3.6/site-packages/ipykernel_launcher.py:4: SettingWithCopyWarning:\n",
      "\n",
      "\n",
      "A value is trying to be set on a copy of a slice from a DataFrame.\n",
      "Try using .loc[row_indexer,col_indexer] = value instead\n",
      "\n",
      "See the caveats in the documentation: https://pandas.pydata.org/pandas-docs/stable/user_guide/indexing.html#returning-a-view-versus-a-copy\n",
      "\n"
     ]
    },
    {
     "data": {
      "image/png": "[encoded data removed]",
      "text/plain": [
       "<Figure size 1152x576 with 1 Axes>"
      ]
     },
     "metadata": {
      "needs_background": "light"
     },
     "output_type": "display_data"
    }
   ],
   "source": [
    "# Plot the data\n",
    "train = data[:training_data_len]\n",
    "valid = data[training_data_len:]\n",
    "valid['Predictions'] = preds\n",
    "# Visualize the data\n",
    "plt.figure(figsize=(16,8))\n",
    "plt.title('LSTM MODEL for SPY')\n",
    "plt.xlabel('Date', fontsize=18)\n",
    "plt.ylabel('Close Price USD ($)', fontsize=18)\n",
    "plt.plot(train['Close'])\n",
    "plt.plot(valid[['Close', 'Predictions']])\n",
    "plt.legend(['Train', 'Val', 'Predictions'], loc='upper left')\n",
    "plt.show()"
   ]
  },
  {
   "cell_type": "code",
   "execution_count": null,
   "metadata": {},
   "outputs": [],
   "source": []
  },
  {
   "cell_type": "code",
   "execution_count": null,
   "metadata": {},
   "outputs": [],
   "source": []
  },
  {
   "cell_type": "code",
   "execution_count": null,
   "metadata": {},
   "outputs": [],
   "source": []
  },
  {
   "cell_type": "code",
   "execution_count": null,
   "metadata": {},
   "outputs": [],
   "source": []
  }
 ],
 "metadata": {
  "kernelspec": {
   "display_name": "Python 3",
   "language": "python",
   "name": "python3"
  },
  "language_info": {
   "codemirror_mode": {
    "name": "ipython",
    "version": 3
   },
   "file_extension": ".py",
   "mimetype": "text/x-python",
   "name": "python",
   "nbconvert_exporter": "python",
   "pygments_lexer": "ipython3",
   "version": "3.6.9"
  },
  "toc": {
   "base_numbering": 1,
   "nav_menu": {},
   "number_sections": true,
   "sideBar": true,
   "skip_h1_title": false,
   "title_cell": "Table of Contents",
   "title_sidebar": "Contents",
   "toc_cell": false,
   "toc_position": {},
   "toc_section_display": true,
   "toc_window_display": false
  }
 },
 "nbformat": 4,
 "nbformat_minor": 4
}
