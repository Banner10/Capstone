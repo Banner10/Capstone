{
 "cells": [
  {
   "cell_type": "code",
   "execution_count": 1,
   "metadata": {},
   "outputs": [
    {
     "name": "stderr",
     "output_type": "stream",
     "text": [
      "/Users/andrewbanner/opt/anaconda3/envs/learn-env/lib/python3.6/site-packages/mpl_finance.py:22: DeprecationWarning: \n",
      "\n",
      "  =================================================================\n",
      "\n",
      "   WARNING: `mpl_finance` is deprecated:\n",
      "\n",
      "    Please use `mplfinance` instead (no hyphen, no underscore).\n",
      "\n",
      "    To install: `pip install --upgrade mplfinance` \n",
      "\n",
      "   For more information, see: https://pypi.org/project/mplfinance/\n",
      "\n",
      "  =================================================================\n",
      "\n",
      "  category=DeprecationWarning)\n"
     ]
    }
   ],
   "source": [
    "import keras as ks\n",
    "from keras.models import Sequential\n",
    "from keras.layers import LSTM,Dropout,Dense\n",
    "from sklearn.preprocessing import MinMaxScaler\n",
    "scaler=MinMaxScaler(feature_range=(0,1))\n",
    "import mpl_finance as mpf\n",
    "from mpl_finance import candlestick_ohlc\n",
    "import matplotlib.ticker as mticker\n",
    "from datetime import date\n",
    "from matplotlib.dates import date2num\n",
    "import matplotlib.dates as mdates\n",
    "import matplotlib.ticker as mticker\n",
    "import pandas as pd\n",
    "import matplotlib.pyplot as plt\n",
    "import matplotlib.dates as mdates\n",
    "import numpy as np\n",
    "import plotly.graph_objects as go\n",
    "import yfinance as yf"
   ]
  },
  {
   "cell_type": "markdown",
   "metadata": {},
   "source": [
    "Basic LSTM Creation Overview\n",
    "\n",
    "1. Prepare the data.\n",
    "2. Feature Scaling (Preprocessing of data)\n",
    "3. Split the dataset for train and test.\n",
    "4. Converting features into NumPy array and reshaping the array into shape accepted by LSTM model.\n",
    "5. Build the architecture for LSTM network.\n",
    "6. Compile and fit the model (Training)"
   ]
  },
  {
   "cell_type": "code",
   "execution_count": 2,
   "metadata": {},
   "outputs": [
    {
     "name": "stdout",
     "output_type": "stream",
     "text": [
      "Requirement already satisfied: colorlover in /Users/andrewbanner/opt/anaconda3/envs/learn-env/lib/python3.6/site-packages (0.3.0)\r\n"
     ]
    }
   ],
   "source": [
    "! pip install colorlover\n"
   ]
  },
  {
   "cell_type": "code",
   "execution_count": 3,
   "metadata": {},
   "outputs": [
    {
     "name": "stdout",
     "output_type": "stream",
     "text": [
      "[*********************100%***********************]  1 of 1 completed\n"
     ]
    }
   ],
   "source": [
    "spy = yf.download(\n",
    "        tickers = \"SPY\",\n",
    "        period = \"1mo\",\n",
    "        interval = \"5m\",\n",
    "        group_by = 'column',\n",
    "        auto_adjust = False,\n",
    "        prepost = False,\n",
    "        threads = True,\n",
    "        proxy = None\n",
    "    )"
   ]
  },
  {
   "cell_type": "code",
   "execution_count": 4,
   "metadata": {},
   "outputs": [],
   "source": [
    "data = spy\n",
    "data = spy.filter(['Close'])"
   ]
  },
  {
   "cell_type": "code",
   "execution_count": 5,
   "metadata": {},
   "outputs": [],
   "source": [
    "# Convert the dataframe to numpy array\n",
    "df = data.values"
   ]
  },
  {
   "cell_type": "code",
   "execution_count": 6,
   "metadata": {},
   "outputs": [
    {
     "data": {
      "text/plain": [
       "1373"
      ]
     },
     "execution_count": 6,
     "metadata": {},
     "output_type": "execute_result"
    }
   ],
   "source": [
    "# Get the number of rows to train the model on\n",
    "training_data_len = int(np.ceil(len(df)*.8))\n",
    "training_data_len"
   ]
  },
  {
   "cell_type": "code",
   "execution_count": 7,
   "metadata": {},
   "outputs": [],
   "source": [
    "# Scale the data\n",
    "scaler = MinMaxScaler(feature_range=(0,1))\n",
    "scaled_data = scaler.fit_transform(df)"
   ]
  },
  {
   "cell_type": "code",
   "execution_count": 8,
   "metadata": {},
   "outputs": [],
   "source": [
    "#Create the scaled training data set\n",
    "train_data = scaled_data[0:int(training_data_len), :]"
   ]
  },
  {
   "cell_type": "code",
   "execution_count": 9,
   "metadata": {},
   "outputs": [],
   "source": [
    "#Split the data into x_train and y_train\n",
    "x_train = []\n",
    "y_train = []\n",
    "\n",
    "for i in range(60, len(train_data)):\n",
    "    x_train.append(train_data[i-60:i,0])\n",
    "    y_train.append(train_data[i,0])"
   ]
  },
  {
   "cell_type": "code",
   "execution_count": 10,
   "metadata": {},
   "outputs": [],
   "source": [
    "#convert the x_train and y_train to numpy arrays\n",
    "x_train = np.array(x_train)\n",
    "y_train = np.array(y_train)"
   ]
  },
  {
   "cell_type": "code",
   "execution_count": 11,
   "metadata": {},
   "outputs": [],
   "source": [
    "#reshape the data\n",
    "x_train = np.reshape(x_train, (x_train.shape[0], x_train.shape[1], 1))"
   ]
  },
  {
   "cell_type": "code",
   "execution_count": 12,
   "metadata": {},
   "outputs": [],
   "source": [
    "#Build the LSTM model\n",
    "lstm_model = Sequential()\n",
    "lstm_model.add(LSTM(128, return_sequences=True, input_shape= (x_train.shape[1], 1)))\n",
    "lstm_model.add(LSTM(64, return_sequences=False))\n",
    "lstm_model.add(Dense(25))\n",
    "lstm_model.add(Dense(1))"
   ]
  },
  {
   "cell_type": "code",
   "execution_count": 13,
   "metadata": {},
   "outputs": [
    {
     "name": "stdout",
     "output_type": "stream",
     "text": [
      "Epoch 1/100\n",
      "42/42 [==============================] - 7s 69ms/step - loss: 0.0879\n",
      "Epoch 2/100\n",
      "42/42 [==============================] - 3s 66ms/step - loss: 0.0015\n",
      "Epoch 3/100\n",
      "42/42 [==============================] - 3s 65ms/step - loss: 0.0011\n",
      "Epoch 4/100\n",
      "42/42 [==============================] - 3s 69ms/step - loss: 0.0011\n",
      "Epoch 5/100\n",
      "42/42 [==============================] - 3s 83ms/step - loss: 9.7695e-04\n",
      "Epoch 6/100\n",
      "42/42 [==============================] - 3s 82ms/step - loss: 0.0024\n",
      "Epoch 7/100\n",
      "42/42 [==============================] - 3s 79ms/step - loss: 0.0011\n",
      "Epoch 8/100\n",
      "42/42 [==============================] - 3s 69ms/step - loss: 8.4322e-04\n",
      "Epoch 9/100\n",
      "42/42 [==============================] - 3s 76ms/step - loss: 0.0011\n",
      "Epoch 10/100\n",
      "42/42 [==============================] - 4s 105ms/step - loss: 9.1703e-04\n",
      "Epoch 11/100\n",
      "42/42 [==============================] - 4s 87ms/step - loss: 8.3266e-04\n",
      "Epoch 12/100\n",
      "42/42 [==============================] - 4s 86ms/step - loss: 0.0010\n",
      "Epoch 13/100\n",
      "42/42 [==============================] - 5s 107ms/step - loss: 8.1432e-04\n",
      "Epoch 14/100\n",
      "42/42 [==============================] - 5s 120ms/step - loss: 0.0011\n",
      "Epoch 15/100\n",
      "42/42 [==============================] - 5s 118ms/step - loss: 7.1023e-04\n",
      "Epoch 16/100\n",
      "42/42 [==============================] - 5s 116ms/step - loss: 8.4458e-04\n",
      "Epoch 17/100\n",
      "42/42 [==============================] - 4s 106ms/step - loss: 7.6451e-04\n",
      "Epoch 18/100\n",
      "42/42 [==============================] - 5s 119ms/step - loss: 7.4385e-04\n",
      "Epoch 19/100\n",
      "42/42 [==============================] - 5s 124ms/step - loss: 9.0295e-04\n",
      "Epoch 20/100\n",
      "42/42 [==============================] - 5s 119ms/step - loss: 7.2572e-04\n",
      "Epoch 21/100\n",
      "42/42 [==============================] - 5s 120ms/step - loss: 0.0020\n",
      "Epoch 22/100\n",
      "42/42 [==============================] - 5s 117ms/step - loss: 7.5036e-04\n",
      "Epoch 23/100\n",
      "42/42 [==============================] - 5s 118ms/step - loss: 7.1128e-04\n",
      "Epoch 24/100\n",
      "42/42 [==============================] - 5s 118ms/step - loss: 6.1878e-04\n",
      "Epoch 25/100\n",
      "42/42 [==============================] - 5s 120ms/step - loss: 0.0010\n",
      "Epoch 26/100\n",
      "42/42 [==============================] - 5s 119ms/step - loss: 5.1778e-04\n",
      "Epoch 27/100\n",
      "42/42 [==============================] - 5s 117ms/step - loss: 5.8362e-04\n",
      "Epoch 28/100\n",
      "42/42 [==============================] - 5s 119ms/step - loss: 7.3792e-04\n",
      "Epoch 29/100\n",
      "42/42 [==============================] - 5s 120ms/step - loss: 6.4534e-04\n",
      "Epoch 30/100\n",
      "42/42 [==============================] - 5s 119ms/step - loss: 5.7514e-04\n",
      "Epoch 31/100\n",
      "42/42 [==============================] - 5s 120ms/step - loss: 5.5069e-04\n",
      "Epoch 32/100\n",
      "42/42 [==============================] - 5s 122ms/step - loss: 5.7294e-04\n",
      "Epoch 33/100\n",
      "42/42 [==============================] - 5s 117ms/step - loss: 4.9814e-04\n",
      "Epoch 34/100\n",
      "42/42 [==============================] - 5s 124ms/step - loss: 6.2381e-04\n",
      "Epoch 35/100\n",
      "42/42 [==============================] - 5s 121ms/step - loss: 5.2913e-04\n",
      "Epoch 36/100\n",
      "42/42 [==============================] - 5s 123ms/step - loss: 6.5864e-04\n",
      "Epoch 37/100\n",
      "42/42 [==============================] - 6s 144ms/step - loss: 5.4404e-04\n",
      "Epoch 38/100\n",
      "42/42 [==============================] - 5s 128ms/step - loss: 0.0019\n",
      "Epoch 39/100\n",
      "42/42 [==============================] - 5s 119ms/step - loss: 5.7903e-04\n",
      "Epoch 40/100\n",
      "42/42 [==============================] - 4s 96ms/step - loss: 6.6200e-04\n",
      "Epoch 41/100\n",
      "42/42 [==============================] - 4s 99ms/step - loss: 5.5203e-04\n",
      "Epoch 42/100\n",
      "42/42 [==============================] - 4s 97ms/step - loss: 5.1757e-04\n",
      "Epoch 43/100\n",
      "42/42 [==============================] - 4s 96ms/step - loss: 5.4319e-04\n",
      "Epoch 44/100\n",
      "42/42 [==============================] - 4s 96ms/step - loss: 5.3336e-04\n",
      "Epoch 45/100\n",
      "42/42 [==============================] - 4s 95ms/step - loss: 4.1604e-04\n",
      "Epoch 46/100\n",
      "42/42 [==============================] - 4s 97ms/step - loss: 4.5246e-04\n",
      "Epoch 47/100\n",
      "42/42 [==============================] - 4s 97ms/step - loss: 4.6387e-04\n",
      "Epoch 48/100\n",
      "42/42 [==============================] - 4s 100ms/step - loss: 3.8364e-04\n",
      "Epoch 49/100\n",
      "42/42 [==============================] - 4s 97ms/step - loss: 4.1740e-04\n",
      "Epoch 50/100\n",
      "42/42 [==============================] - 4s 95ms/step - loss: 4.5013e-04\n",
      "Epoch 51/100\n",
      "42/42 [==============================] - 4s 95ms/step - loss: 3.9166e-04\n",
      "Epoch 52/100\n",
      "42/42 [==============================] - 4s 95ms/step - loss: 4.4399e-04\n",
      "Epoch 53/100\n",
      "42/42 [==============================] - 4s 98ms/step - loss: 9.2999e-04\n",
      "Epoch 54/100\n",
      "42/42 [==============================] - 4s 96ms/step - loss: 3.9142e-04\n",
      "Epoch 55/100\n",
      "42/42 [==============================] - 4s 86ms/step - loss: 3.4043e-04\n",
      "Epoch 56/100\n",
      "42/42 [==============================] - 3s 61ms/step - loss: 5.2485e-04\n",
      "Epoch 57/100\n",
      "42/42 [==============================] - 3s 64ms/step - loss: 3.4515e-04\n",
      "Epoch 58/100\n",
      "42/42 [==============================] - 3s 65ms/step - loss: 3.9672e-04\n",
      "Epoch 59/100\n",
      "42/42 [==============================] - 3s 64ms/step - loss: 4.1630e-04\n",
      "Epoch 60/100\n",
      "42/42 [==============================] - 3s 65ms/step - loss: 5.4317e-04\n",
      "Epoch 61/100\n",
      "42/42 [==============================] - 3s 63ms/step - loss: 3.0057e-04\n",
      "Epoch 62/100\n",
      "42/42 [==============================] - 3s 63ms/step - loss: 4.3556e-04\n",
      "Epoch 63/100\n",
      "42/42 [==============================] - 3s 64ms/step - loss: 4.7219e-04\n",
      "Epoch 64/100\n",
      "42/42 [==============================] - 3s 63ms/step - loss: 3.4116e-04\n",
      "Epoch 65/100\n",
      "42/42 [==============================] - 3s 63ms/step - loss: 3.1349e-04\n",
      "Epoch 66/100\n",
      "42/42 [==============================] - 3s 64ms/step - loss: 3.8874e-04\n",
      "Epoch 67/100\n",
      "42/42 [==============================] - 3s 68ms/step - loss: 0.0019\n",
      "Epoch 68/100\n",
      "42/42 [==============================] - 3s 79ms/step - loss: 3.7106e-04\n",
      "Epoch 69/100\n",
      "42/42 [==============================] - 3s 67ms/step - loss: 3.5383e-04\n",
      "Epoch 70/100\n",
      "42/42 [==============================] - 3s 69ms/step - loss: 6.0414e-04\n",
      "Epoch 71/100\n",
      "42/42 [==============================] - 4s 86ms/step - loss: 2.7224e-04\n",
      "Epoch 72/100\n",
      "42/42 [==============================] - 4s 85ms/step - loss: 3.3026e-04\n",
      "Epoch 73/100\n",
      "42/42 [==============================] - 3s 82ms/step - loss: 3.3423e-04\n",
      "Epoch 74/100\n",
      "42/42 [==============================] - 3s 71ms/step - loss: 2.8508e-04\n",
      "Epoch 75/100\n",
      "42/42 [==============================] - 3s 78ms/step - loss: 0.0016\n",
      "Epoch 76/100\n",
      "42/42 [==============================] - 3s 81ms/step - loss: 3.0212e-04\n",
      "Epoch 77/100\n",
      "42/42 [==============================] - 3s 81ms/step - loss: 3.3925e-04\n",
      "Epoch 78/100\n",
      "42/42 [==============================] - 3s 72ms/step - loss: 3.4113e-04\n",
      "Epoch 79/100\n",
      "42/42 [==============================] - 3s 73ms/step - loss: 2.6278e-04\n",
      "Epoch 80/100\n",
      "42/42 [==============================] - 3s 74ms/step - loss: 3.1478e-04\n",
      "Epoch 81/100\n",
      "42/42 [==============================] - 3s 76ms/step - loss: 3.3248e-04\n",
      "Epoch 82/100\n",
      "42/42 [==============================] - 3s 71ms/step - loss: 2.8836e-04\n",
      "Epoch 83/100\n",
      "42/42 [==============================] - 3s 71ms/step - loss: 3.1899e-04\n",
      "Epoch 84/100\n",
      "42/42 [==============================] - 3s 69ms/step - loss: 3.9601e-04\n",
      "Epoch 85/100\n",
      "42/42 [==============================] - 3s 68ms/step - loss: 3.3063e-04\n",
      "Epoch 86/100\n",
      "42/42 [==============================] - 3s 68ms/step - loss: 3.2135e-04\n",
      "Epoch 87/100\n",
      "42/42 [==============================] - 3s 69ms/step - loss: 3.2647e-04\n",
      "Epoch 88/100\n",
      "42/42 [==============================] - 3s 69ms/step - loss: 3.2522e-04\n",
      "Epoch 89/100\n",
      "42/42 [==============================] - 3s 70ms/step - loss: 3.5846e-04\n",
      "Epoch 90/100\n",
      "42/42 [==============================] - 3s 68ms/step - loss: 3.0519e-04\n",
      "Epoch 91/100\n",
      "42/42 [==============================] - 3s 70ms/step - loss: 4.1405e-04\n",
      "Epoch 92/100\n",
      "42/42 [==============================] - 3s 69ms/step - loss: 2.3949e-04\n",
      "Epoch 93/100\n",
      "42/42 [==============================] - 3s 79ms/step - loss: 3.4390e-04\n",
      "Epoch 94/100\n",
      "42/42 [==============================] - 3s 72ms/step - loss: 2.1818e-04\n",
      "Epoch 95/100\n",
      "42/42 [==============================] - 3s 67ms/step - loss: 2.4244e-04\n",
      "Epoch 96/100\n"
     ]
    },
    {
     "name": "stdout",
     "output_type": "stream",
     "text": [
      "42/42 [==============================] - 3s 66ms/step - loss: 2.8901e-04\n",
      "Epoch 97/100\n",
      "42/42 [==============================] - 3s 66ms/step - loss: 2.4964e-04\n",
      "Epoch 98/100\n",
      "42/42 [==============================] - 3s 66ms/step - loss: 2.9817e-04\n",
      "Epoch 99/100\n",
      "42/42 [==============================] - 3s 67ms/step - loss: 8.1704e-04\n",
      "Epoch 100/100\n",
      "42/42 [==============================] - 3s 68ms/step - loss: 2.6978e-04\n"
     ]
    },
    {
     "data": {
      "text/plain": [
       "<tensorflow.python.keras.callbacks.History at 0x7fbbe86d77f0>"
      ]
     },
     "execution_count": 13,
     "metadata": {},
     "output_type": "execute_result"
    }
   ],
   "source": [
    "#compile and fit\n",
    "lstm_model.compile(optimizer='adam',loss='mean_squared_error')\n",
    "lstm_model.fit(x_train,y_train,epochs=100,batch_size=32)"
   ]
  },
  {
   "cell_type": "code",
   "execution_count": 14,
   "metadata": {},
   "outputs": [],
   "source": [
    "#Create the testing data set\n",
    "test_data = scaled_data[training_data_len - 60: , :]\n",
    "#Create the data sets x_test and y_test\n",
    "x_test = []\n",
    "y_test = df[training_data_len:, :]\n",
    "for i in range(60, len(test_data)):\n",
    "    x_test.append(test_data[i-60:i, 0])"
   ]
  },
  {
   "cell_type": "code",
   "execution_count": 15,
   "metadata": {},
   "outputs": [],
   "source": [
    "#Convert to numpy array\n",
    "x_test = np.array(x_test)"
   ]
  },
  {
   "cell_type": "code",
   "execution_count": 16,
   "metadata": {},
   "outputs": [],
   "source": [
    "# Reshape the data\n",
    "x_test = np.reshape(x_test, (x_test.shape[0], x_test.shape[1], 1 ))"
   ]
  },
  {
   "cell_type": "code",
   "execution_count": 17,
   "metadata": {},
   "outputs": [],
   "source": [
    "#get model predictions\n",
    "preds = lstm_model.predict(x_test)\n",
    "preds = scaler.inverse_transform(preds)"
   ]
  },
  {
   "cell_type": "code",
   "execution_count": 18,
   "metadata": {},
   "outputs": [
    {
     "data": {
      "text/plain": [
       "0.6688507219254782"
      ]
     },
     "execution_count": 18,
     "metadata": {},
     "output_type": "execute_result"
    }
   ],
   "source": [
    "#Get RMSE\n",
    "rmse = np.sqrt(np.mean(((preds - y_test) **2)))\n",
    "rmse"
   ]
  },
  {
   "cell_type": "code",
   "execution_count": 19,
   "metadata": {},
   "outputs": [
    {
     "name": "stdout",
     "output_type": "stream",
     "text": [
      "Model: \"sequential\"\n",
      "_________________________________________________________________\n",
      "Layer (type)                 Output Shape              Param #   \n",
      "=================================================================\n",
      "lstm (LSTM)                  (None, 60, 128)           66560     \n",
      "_________________________________________________________________\n",
      "lstm_1 (LSTM)                (None, 64)                49408     \n",
      "_________________________________________________________________\n",
      "dense (Dense)                (None, 25)                1625      \n",
      "_________________________________________________________________\n",
      "dense_1 (Dense)              (None, 1)                 26        \n",
      "=================================================================\n",
      "Total params: 117,619\n",
      "Trainable params: 117,619\n",
      "Non-trainable params: 0\n",
      "_________________________________________________________________\n"
     ]
    }
   ],
   "source": [
    "lstm_model.summary()"
   ]
  },
  {
   "cell_type": "code",
   "execution_count": 20,
   "metadata": {},
   "outputs": [],
   "source": [
    "lstm_model.save(\"saved_model_1.h5\")"
   ]
  },
  {
   "cell_type": "code",
   "execution_count": 22,
   "metadata": {},
   "outputs": [
    {
     "name": "stderr",
     "output_type": "stream",
     "text": [
      "/Users/andrewbanner/opt/anaconda3/envs/learn-env/lib/python3.6/site-packages/ipykernel_launcher.py:4: SettingWithCopyWarning:\n",
      "\n",
      "\n",
      "A value is trying to be set on a copy of a slice from a DataFrame.\n",
      "Try using .loc[row_indexer,col_indexer] = value instead\n",
      "\n",
      "See the caveats in the documentation: https://pandas.pydata.org/pandas-docs/stable/user_guide/indexing.html#returning-a-view-versus-a-copy\n",
      "\n"
     ]
    },
    {
     "data": {
      "image/png": "[encoded data removed]",
      "text/plain": [
       "<Figure size 1152x576 with 1 Axes>"
      ]
     },
     "metadata": {
      "needs_background": "light"
     },
     "output_type": "display_data"
    }
   ],
   "source": [
    "# Plot the data\n",
    "train = data[:training_data_len]\n",
    "valid = data[training_data_len:]\n",
    "valid['Predictions'] = preds\n",
    "# Visualize the data\n",
    "plt.figure(figsize=(16,8))\n",
    "plt.title('LSTM MODEL SPY - 1Month - 5min')\n",
    "plt.xlabel('Date', fontsize=18)\n",
    "plt.ylabel('Close Price USD ($)', fontsize=18)\n",
    "plt.plot(train['Close'])\n",
    "plt.plot(valid[['Close', 'Predictions']])\n",
    "plt.legend(['Train', 'Val', 'Predictions'], loc='upper left')\n",
    "plt.show()"
   ]
  },
  {
   "cell_type": "code",
   "execution_count": null,
   "metadata": {},
   "outputs": [],
   "source": []
  },
  {
   "cell_type": "code",
   "execution_count": null,
   "metadata": {},
   "outputs": [],
   "source": []
  },
  {
   "cell_type": "code",
   "execution_count": null,
   "metadata": {},
   "outputs": [],
   "source": []
  },
  {
   "cell_type": "code",
   "execution_count": null,
   "metadata": {},
   "outputs": [],
   "source": []
  }
 ],
 "metadata": {
  "kernelspec": {
   "display_name": "Python 3",
   "language": "python",
   "name": "python3"
  },
  "language_info": {
   "codemirror_mode": {
    "name": "ipython",
    "version": 3
   },
   "file_extension": ".py",
   "mimetype": "text/x-python",
   "name": "python",
   "nbconvert_exporter": "python",
   "pygments_lexer": "ipython3",
   "version": "3.6.9"
  },
  "toc": {
   "base_numbering": 1,
   "nav_menu": {},
   "number_sections": true,
   "sideBar": true,
   "skip_h1_title": false,
   "title_cell": "Table of Contents",
   "title_sidebar": "Contents",
   "toc_cell": false,
   "toc_position": {},
   "toc_section_display": true,
   "toc_window_display": false
  }
 },
 "nbformat": 4,
 "nbformat_minor": 4
}
